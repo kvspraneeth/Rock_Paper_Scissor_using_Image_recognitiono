{
  "cells": [
    {
      "cell_type": "markdown",
      "metadata": {
        "id": "V5VjpGeFHN9E"
      },
      "source": [
        "**Import the necessary packages**"
      ]
    },
    {
      "cell_type": "code",
      "execution_count": null,
      "metadata": {
        "id": "9Jz1Uxo3HN9G"
      },
      "outputs": [],
      "source": [
        "import os\n",
        "import numpy as np\n",
        "import cv2"
      ]
    },
    {
      "cell_type": "code",
      "execution_count": null,
      "metadata": {
        "id": "oKzntGyaHN9I"
      },
      "outputs": [],
      "source": [
        "from keras.models import Sequential\n",
        "from keras.layers import Activation, Dense\n",
        "from keras import optimizers\n",
        "from keras import applications\n",
        "from keras.models import Model\n",
        "import matplotlib.pyplot as plt\n",
        "from keras.utils import to_categorical"
      ]
    },
    {
      "cell_type": "code",
      "execution_count": null,
      "metadata": {
        "id": "TmmqdfXHHN9K"
      },
      "outputs": [],
      "source": [
        "def flatten_images(folder):\n",
        "    images=[]\n",
        "    for filename in os.listdir(folder):\n",
        "        img=plt.imread(folder+filename)\n",
        "        img = cv2.resize(img, (64,64), interpolation = cv2.INTER_AREA)# 64*64*3=12288\n",
        "#         print(img.shape)\n",
        "        img=np.array(img)\n",
        "        img=img.flatten()\n",
        "        images.append(img)\n",
        "    return(images)"
      ]
    },
    {
      "cell_type": "code",
      "source": [
        "from google.colab import drive\n",
        "drive.mount('/content/drive')"
      ],
      "metadata": {
        "colab": {
          "base_uri": "https://localhost:8080/"
        },
        "id": "vJy4n1kd1bKn",
        "outputId": "81d3ddaa-3e24-4c88-ca1c-578b88b2b758"
      },
      "execution_count": null,
      "outputs": [
        {
          "output_type": "stream",
          "name": "stdout",
          "text": [
            "Mounted at /content/drive\n"
          ]
        }
      ]
    },
    {
      "cell_type": "code",
      "execution_count": null,
      "metadata": {
        "colab": {
          "base_uri": "https://localhost:8080/"
        },
        "id": "SIPR8lsMHN9L",
        "outputId": "1e1509b7-403d-4146-c0e5-d51f91065b7b"
      },
      "outputs": [
        {
          "output_type": "execute_result",
          "data": {
            "text/plain": [
              "(470, 12288)"
            ]
          },
          "metadata": {},
          "execution_count": 31
        }
      ],
      "source": [
        "rock=flatten_images('/content/drive/MyDrive/RPS-ANN-data set/rps-cv-images/rock/') # calling the function above to compute rock hand gesture features\n",
        "rock=np.array(rock) # converting list into numpy array\n",
        "rock.shape  # print shape of array\n",
        "# In the output output : rows count shows the number of images and columns count is the number of features"
      ]
    },
    {
      "cell_type": "code",
      "source": [
        "import os\n",
        "\n",
        "folder = '/content/drive/MyDrive/RPS-ANN-data set/rps-cv-images/paper/'\n",
        "filename = 'paper2F8Ng7620ANA7tEK.png'\n",
        "file_path = os.path.join(folder, filename)\n",
        "\n",
        "if os.path.exists(file_path):\n",
        "    print(\"File exists.\")\n",
        "else:\n",
        "    print(\"File does not exist.\")"
      ],
      "metadata": {
        "colab": {
          "base_uri": "https://localhost:8080/"
        },
        "id": "cdAPsubV5uHW",
        "outputId": "3dcf389b-2cf8-43b9-fee8-e9114332f460"
      },
      "execution_count": null,
      "outputs": [
        {
          "output_type": "stream",
          "name": "stdout",
          "text": [
            "File does not exist.\n"
          ]
        }
      ]
    },
    {
      "cell_type": "code",
      "source": [
        "from google.colab import drive\n",
        "\n",
        "drive.mount('/content/drive')\n",
        "\n",
        "# Check if the file exists in the mounted Google Drive folder\n",
        "file_path = '/content/drive/MyDrive/RPS-ANN-data set/rps-cv-images/paper/paper2F8Ng7620ANA7tEK.png'\n",
        "\n",
        "if os.path.exists(file_path):\n",
        "    print(\"File exists on Google Drive.\")\n",
        "else:\n",
        "    print(\"File does not exist on Google Drive.\")"
      ],
      "metadata": {
        "colab": {
          "base_uri": "https://localhost:8080/"
        },
        "id": "lQjnKiCl5xBN",
        "outputId": "35705f02-4efd-4fd0-a6f4-77081c691b42"
      },
      "execution_count": null,
      "outputs": [
        {
          "output_type": "stream",
          "name": "stdout",
          "text": [
            "Drive already mounted at /content/drive; to attempt to forcibly remount, call drive.mount(\"/content/drive\", force_remount=True).\n",
            "File does not exist on Google Drive.\n"
          ]
        }
      ]
    },
    {
      "cell_type": "code",
      "source": [
        "# Upload the file to Google Drive\n",
        "!cp '/path/to/local/file' '/content/drive/MyDrive/RPS-ANN-data set/rps-cv-images/paper'"
      ],
      "metadata": {
        "id": "_apbZIxp50jt",
        "outputId": "c0871961-3f0c-4521-c440-df32601c5d89",
        "colab": {
          "base_uri": "https://localhost:8080/"
        }
      },
      "execution_count": null,
      "outputs": [
        {
          "output_type": "stream",
          "name": "stdout",
          "text": [
            "cp: cannot stat '/path/to/local/file': No such file or directory\n"
          ]
        }
      ]
    },
    {
      "cell_type": "code",
      "source": [],
      "metadata": {
        "id": "_TTLF0K_50o9"
      },
      "execution_count": null,
      "outputs": []
    },
    {
      "cell_type": "code",
      "execution_count": null,
      "metadata": {
        "scrolled": true,
        "id": "ghmoLK_IHN9M",
        "outputId": "bc609e98-8739-417d-d3d9-b0706ff9ca3b",
        "colab": {
          "base_uri": "https://localhost:8080/",
          "height": 339
        }
      },
      "outputs": [
        {
          "output_type": "error",
          "ename": "FileNotFoundError",
          "evalue": "[Errno 2] No such file or directory: '/content/drive/MyDrive/RPS-ANN-data set/rps-cv-images/paper2DQbLQfHlfrcATqi.png'",
          "traceback": [
            "\u001b[0;31m---------------------------------------------------------------------------\u001b[0m",
            "\u001b[0;31mFileNotFoundError\u001b[0m                         Traceback (most recent call last)",
            "\u001b[0;32m<ipython-input-33-cea92e94186f>\u001b[0m in \u001b[0;36m<cell line: 1>\u001b[0;34m()\u001b[0m\n\u001b[0;32m----> 1\u001b[0;31m \u001b[0mpaper\u001b[0m\u001b[0;34m=\u001b[0m\u001b[0mflatten_images\u001b[0m\u001b[0;34m(\u001b[0m\u001b[0;34m'/content/drive/MyDrive/RPS-ANN-data set/rps-cv-images/paper'\u001b[0m\u001b[0;34m)\u001b[0m\u001b[0;34m\u001b[0m\u001b[0;34m\u001b[0m\u001b[0m\n\u001b[0m\u001b[1;32m      2\u001b[0m \u001b[0mpaper\u001b[0m\u001b[0;34m=\u001b[0m\u001b[0mnp\u001b[0m\u001b[0;34m.\u001b[0m\u001b[0marray\u001b[0m\u001b[0;34m(\u001b[0m\u001b[0mpaper\u001b[0m\u001b[0;34m)\u001b[0m\u001b[0;34m\u001b[0m\u001b[0;34m\u001b[0m\u001b[0m\n\u001b[1;32m      3\u001b[0m \u001b[0mpaper\u001b[0m\u001b[0;34m.\u001b[0m\u001b[0mshape\u001b[0m\u001b[0;34m\u001b[0m\u001b[0;34m\u001b[0m\u001b[0m\n",
            "\u001b[0;32m<ipython-input-29-95b42ec828f0>\u001b[0m in \u001b[0;36mflatten_images\u001b[0;34m(folder)\u001b[0m\n\u001b[1;32m      2\u001b[0m     \u001b[0mimages\u001b[0m\u001b[0;34m=\u001b[0m\u001b[0;34m[\u001b[0m\u001b[0;34m]\u001b[0m\u001b[0;34m\u001b[0m\u001b[0;34m\u001b[0m\u001b[0m\n\u001b[1;32m      3\u001b[0m     \u001b[0;32mfor\u001b[0m \u001b[0mfilename\u001b[0m \u001b[0;32min\u001b[0m \u001b[0mos\u001b[0m\u001b[0;34m.\u001b[0m\u001b[0mlistdir\u001b[0m\u001b[0;34m(\u001b[0m\u001b[0mfolder\u001b[0m\u001b[0;34m)\u001b[0m\u001b[0;34m:\u001b[0m\u001b[0;34m\u001b[0m\u001b[0;34m\u001b[0m\u001b[0m\n\u001b[0;32m----> 4\u001b[0;31m         \u001b[0mimg\u001b[0m\u001b[0;34m=\u001b[0m\u001b[0mplt\u001b[0m\u001b[0;34m.\u001b[0m\u001b[0mimread\u001b[0m\u001b[0;34m(\u001b[0m\u001b[0mfolder\u001b[0m\u001b[0;34m+\u001b[0m\u001b[0mfilename\u001b[0m\u001b[0;34m)\u001b[0m\u001b[0;34m\u001b[0m\u001b[0;34m\u001b[0m\u001b[0m\n\u001b[0m\u001b[1;32m      5\u001b[0m         \u001b[0mimg\u001b[0m \u001b[0;34m=\u001b[0m \u001b[0mcv2\u001b[0m\u001b[0;34m.\u001b[0m\u001b[0mresize\u001b[0m\u001b[0;34m(\u001b[0m\u001b[0mimg\u001b[0m\u001b[0;34m,\u001b[0m \u001b[0;34m(\u001b[0m\u001b[0;36m64\u001b[0m\u001b[0;34m,\u001b[0m\u001b[0;36m64\u001b[0m\u001b[0;34m)\u001b[0m\u001b[0;34m,\u001b[0m \u001b[0minterpolation\u001b[0m \u001b[0;34m=\u001b[0m \u001b[0mcv2\u001b[0m\u001b[0;34m.\u001b[0m\u001b[0mINTER_AREA\u001b[0m\u001b[0;34m)\u001b[0m\u001b[0;31m# 64*64*3=12288\u001b[0m\u001b[0;34m\u001b[0m\u001b[0;34m\u001b[0m\u001b[0m\n\u001b[1;32m      6\u001b[0m \u001b[0;31m#         print(img.shape)\u001b[0m\u001b[0;34m\u001b[0m\u001b[0;34m\u001b[0m\u001b[0m\n",
            "\u001b[0;32m/usr/local/lib/python3.10/dist-packages/matplotlib/pyplot.py\u001b[0m in \u001b[0;36mimread\u001b[0;34m(fname, format)\u001b[0m\n\u001b[1;32m   2193\u001b[0m \u001b[0;34m@\u001b[0m\u001b[0m_copy_docstring_and_deprecators\u001b[0m\u001b[0;34m(\u001b[0m\u001b[0mmatplotlib\u001b[0m\u001b[0;34m.\u001b[0m\u001b[0mimage\u001b[0m\u001b[0;34m.\u001b[0m\u001b[0mimread\u001b[0m\u001b[0;34m)\u001b[0m\u001b[0;34m\u001b[0m\u001b[0;34m\u001b[0m\u001b[0m\n\u001b[1;32m   2194\u001b[0m \u001b[0;32mdef\u001b[0m \u001b[0mimread\u001b[0m\u001b[0;34m(\u001b[0m\u001b[0mfname\u001b[0m\u001b[0;34m,\u001b[0m \u001b[0mformat\u001b[0m\u001b[0;34m=\u001b[0m\u001b[0;32mNone\u001b[0m\u001b[0;34m)\u001b[0m\u001b[0;34m:\u001b[0m\u001b[0;34m\u001b[0m\u001b[0;34m\u001b[0m\u001b[0m\n\u001b[0;32m-> 2195\u001b[0;31m     \u001b[0;32mreturn\u001b[0m \u001b[0mmatplotlib\u001b[0m\u001b[0;34m.\u001b[0m\u001b[0mimage\u001b[0m\u001b[0;34m.\u001b[0m\u001b[0mimread\u001b[0m\u001b[0;34m(\u001b[0m\u001b[0mfname\u001b[0m\u001b[0;34m,\u001b[0m \u001b[0mformat\u001b[0m\u001b[0;34m)\u001b[0m\u001b[0;34m\u001b[0m\u001b[0;34m\u001b[0m\u001b[0m\n\u001b[0m\u001b[1;32m   2196\u001b[0m \u001b[0;34m\u001b[0m\u001b[0m\n\u001b[1;32m   2197\u001b[0m \u001b[0;34m\u001b[0m\u001b[0m\n",
            "\u001b[0;32m/usr/local/lib/python3.10/dist-packages/matplotlib/image.py\u001b[0m in \u001b[0;36mimread\u001b[0;34m(fname, format)\u001b[0m\n\u001b[1;32m   1561\u001b[0m             \u001b[0;34m\"``np.array(PIL.Image.open(urllib.request.urlopen(url)))``.\"\u001b[0m\u001b[0;34m\u001b[0m\u001b[0;34m\u001b[0m\u001b[0m\n\u001b[1;32m   1562\u001b[0m             )\n\u001b[0;32m-> 1563\u001b[0;31m     \u001b[0;32mwith\u001b[0m \u001b[0mimg_open\u001b[0m\u001b[0;34m(\u001b[0m\u001b[0mfname\u001b[0m\u001b[0;34m)\u001b[0m \u001b[0;32mas\u001b[0m \u001b[0mimage\u001b[0m\u001b[0;34m:\u001b[0m\u001b[0;34m\u001b[0m\u001b[0;34m\u001b[0m\u001b[0m\n\u001b[0m\u001b[1;32m   1564\u001b[0m         return (_pil_png_to_float_array(image)\n\u001b[1;32m   1565\u001b[0m                 \u001b[0;32mif\u001b[0m \u001b[0misinstance\u001b[0m\u001b[0;34m(\u001b[0m\u001b[0mimage\u001b[0m\u001b[0;34m,\u001b[0m \u001b[0mPIL\u001b[0m\u001b[0;34m.\u001b[0m\u001b[0mPngImagePlugin\u001b[0m\u001b[0;34m.\u001b[0m\u001b[0mPngImageFile\u001b[0m\u001b[0;34m)\u001b[0m \u001b[0;32melse\u001b[0m\u001b[0;34m\u001b[0m\u001b[0;34m\u001b[0m\u001b[0m\n",
            "\u001b[0;32m/usr/local/lib/python3.10/dist-packages/PIL/ImageFile.py\u001b[0m in \u001b[0;36m__init__\u001b[0;34m(self, fp, filename)\u001b[0m\n\u001b[1;32m    103\u001b[0m         \u001b[0;32mif\u001b[0m \u001b[0mis_path\u001b[0m\u001b[0;34m(\u001b[0m\u001b[0mfp\u001b[0m\u001b[0;34m)\u001b[0m\u001b[0;34m:\u001b[0m\u001b[0;34m\u001b[0m\u001b[0;34m\u001b[0m\u001b[0m\n\u001b[1;32m    104\u001b[0m             \u001b[0;31m# filename\u001b[0m\u001b[0;34m\u001b[0m\u001b[0;34m\u001b[0m\u001b[0m\n\u001b[0;32m--> 105\u001b[0;31m             \u001b[0mself\u001b[0m\u001b[0;34m.\u001b[0m\u001b[0mfp\u001b[0m \u001b[0;34m=\u001b[0m \u001b[0mopen\u001b[0m\u001b[0;34m(\u001b[0m\u001b[0mfp\u001b[0m\u001b[0;34m,\u001b[0m \u001b[0;34m\"rb\"\u001b[0m\u001b[0;34m)\u001b[0m\u001b[0;34m\u001b[0m\u001b[0;34m\u001b[0m\u001b[0m\n\u001b[0m\u001b[1;32m    106\u001b[0m             \u001b[0mself\u001b[0m\u001b[0;34m.\u001b[0m\u001b[0mfilename\u001b[0m \u001b[0;34m=\u001b[0m \u001b[0mfp\u001b[0m\u001b[0;34m\u001b[0m\u001b[0;34m\u001b[0m\u001b[0m\n\u001b[1;32m    107\u001b[0m             \u001b[0mself\u001b[0m\u001b[0;34m.\u001b[0m\u001b[0m_exclusive_fp\u001b[0m \u001b[0;34m=\u001b[0m \u001b[0;32mTrue\u001b[0m\u001b[0;34m\u001b[0m\u001b[0;34m\u001b[0m\u001b[0m\n",
            "\u001b[0;31mFileNotFoundError\u001b[0m: [Errno 2] No such file or directory: '/content/drive/MyDrive/RPS-ANN-data set/rps-cv-images/paper2DQbLQfHlfrcATqi.png'"
          ]
        }
      ],
      "source": [
        "paper=flatten_images('/content/drive/MyDrive/RPS-ANN-data set/rps-cv-images/paper')\n",
        "paper=np.array(paper)\n",
        "paper.shape"
      ]
    },
    {
      "cell_type": "code",
      "execution_count": null,
      "metadata": {
        "id": "8ezfgpKBHN9N",
        "outputId": "96677b62-5f90-42bf-ebf9-0c6c43bcf2c1",
        "colab": {
          "base_uri": "https://localhost:8080/"
        }
      },
      "outputs": [
        {
          "output_type": "execute_result",
          "data": {
            "text/plain": [
              "(0,)"
            ]
          },
          "metadata": {},
          "execution_count": 35
        }
      ],
      "source": [
        "# same as above but for scissors data\n",
        "scissors=flatten_images('/content/drive/MyDrive/RPS-ANN-data set/rps-cv-images/scissors')\n",
        "scissors=np.array(scissors)\n",
        "scissors.shape"
      ]
    },
    {
      "cell_type": "code",
      "execution_count": null,
      "metadata": {
        "id": "bGHa6961HN9N",
        "outputId": "7023a314-6366-445f-bce4-768c2a074c9e"
      },
      "outputs": [
        {
          "data": {
            "text/plain": [
              "<matplotlib.image.AxesImage at 0x1dcf3683588>"
            ]
          },
          "execution_count": 7,
          "metadata": {},
          "output_type": "execute_result"
        },
        {
          "data": {
            "image/png": "[encoded data removed]",
            "text/plain": [
              "<Figure size 432x288 with 1 Axes>"
            ]
          },
          "metadata": {
            "needs_background": "light"
          },
          "output_type": "display_data"
        }
      ],
      "source": [
        "plt.imshow(scissors[0].reshape(64,64,3))"
      ]
    },
    {
      "cell_type": "markdown",
      "metadata": {
        "id": "r7PwrfqPHN9O"
      },
      "source": [
        "**Create labels for rock, paper and scissors class vectors**"
      ]
    },
    {
      "cell_type": "code",
      "execution_count": null,
      "metadata": {
        "id": "QDgwSbAVHN9O"
      },
      "outputs": [],
      "source": [
        "rock_labels=np.ones((len(rock),1)) # np.ones creates an array of ones (where 1 is the label) with only one column and number of rows same as number of rock images\n",
        "paper_labels=np.zeros((len(paper),1))# np.zeros creates an array of ones (where 1 is the label) with only one column and number of rows same as number of paper images\n",
        "scissors_labels=np.full((len(scissors),1),2)# label as 2 for scissors"
      ]
    },
    {
      "cell_type": "markdown",
      "metadata": {
        "id": "b5EQmVNmHN9P"
      },
      "source": [
        "**Create feature vector and corresponding label vector containing all the three classes**"
      ]
    },
    {
      "cell_type": "code",
      "execution_count": null,
      "metadata": {
        "id": "YQwLrkPMHN9P"
      },
      "outputs": [],
      "source": [
        "labels=np.concatenate((rock_labels,paper_labels,scissors_labels),axis=0)\n",
        "features=np.concatenate((rock,paper,scissors),axis=0)"
      ]
    },
    {
      "cell_type": "markdown",
      "metadata": {
        "id": "obo5v7ESHN9P"
      },
      "source": [
        "**Split the features and labels into test and train sets**"
      ]
    },
    {
      "cell_type": "code",
      "execution_count": null,
      "metadata": {
        "id": "i6prRxtcHN9Q"
      },
      "outputs": [],
      "source": [
        "from sklearn.model_selection import train_test_split\n",
        "# Split dataset into training set and test set\n",
        "X_train, X_test, y_train, y_test = train_test_split(features,labels,test_size=0.3)"
      ]
    },
    {
      "cell_type": "markdown",
      "metadata": {
        "id": "0YuV6-HUHN9Q"
      },
      "source": [
        "**ANN classifier will be used for classification**"
      ]
    },
    {
      "cell_type": "code",
      "execution_count": null,
      "metadata": {
        "id": "tHy0OCFrHN9Q"
      },
      "outputs": [],
      "source": [
        "# Build the model.\n",
        "model = Sequential([\n",
        "  Dense(1024, activation='softmax', input_shape=(12288,)),\n",
        "  Dense(128, activation='softmax'),\n",
        "  Dense(32, activation='softmax'),\n",
        "  Dense(3, activation='softmax'),\n",
        "])"
      ]
    },
    {
      "cell_type": "code",
      "execution_count": null,
      "metadata": {
        "id": "A2oFx5o0HN9Q",
        "outputId": "2a945b4b-a1e7-48e3-f7ef-6194f030ed3a"
      },
      "outputs": [
        {
          "name": "stdout",
          "output_type": "stream",
          "text": [
            "Model: \"sequential_1\"\n",
            "_________________________________________________________________\n",
            "Layer (type)                 Output Shape              Param #   \n",
            "=================================================================\n",
            "dense_1 (Dense)              (None, 1024)              12583936  \n",
            "_________________________________________________________________\n",
            "dense_2 (Dense)              (None, 128)               131200    \n",
            "_________________________________________________________________\n",
            "dense_3 (Dense)              (None, 32)                4128      \n",
            "_________________________________________________________________\n",
            "dense_4 (Dense)              (None, 3)                 99        \n",
            "=================================================================\n",
            "Total params: 12,719,363\n",
            "Trainable params: 12,719,363\n",
            "Non-trainable params: 0\n",
            "_________________________________________________________________\n"
          ]
        }
      ],
      "source": [
        "model.summary()"
      ]
    },
    {
      "cell_type": "code",
      "execution_count": null,
      "metadata": {
        "id": "cr178Tp-HN9R",
        "outputId": "fac1db7c-09dd-4161-c8cb-5eba87acd7f0"
      },
      "outputs": [
        {
          "name": "stdout",
          "output_type": "stream",
          "text": [
            "Train on 1527 samples, validate on 655 samples\n",
            "Epoch 1/50\n",
            "1527/1527 [==============================] - 9s 6ms/step - loss: 1.8746 - accuracy: 0.4244 - auc: 0.5352 - precision: 0.3611 - recall: 0.2929 - val_loss: 0.9395 - val_accuracy: 0.4855 - val_auc: 0.6156 - val_precision: 0.4438 - val_recall: 0.3480\n",
            "Epoch 2/50\n",
            "1527/1527 [==============================] - 9s 6ms/step - loss: 0.8988 - accuracy: 0.5796 - auc: 0.6625 - precision: 0.4914 - recall: 0.3775 - val_loss: 0.7971 - val_accuracy: 0.6305 - val_auc: 0.6998 - val_precision: 0.5446 - val_recall: 0.4015\n",
            "Epoch 3/50\n",
            "1527/1527 [==============================] - 10s 6ms/step - loss: 0.7529 - accuracy: 0.7053 - auc: 0.7284 - precision: 0.5831 - recall: 0.4251 - val_loss: 0.7118 - val_accuracy: 0.6244 - val_auc: 0.7530 - val_precision: 0.6146 - val_recall: 0.4442\n",
            "Epoch 4/50\n",
            "1527/1527 [==============================] - 10s 6ms/step - loss: 0.6588 - accuracy: 0.7525 - auc: 0.7729 - precision: 0.6393 - recall: 0.4643 - val_loss: 0.6129 - val_accuracy: 0.7847 - val_auc: 0.7916 - val_precision: 0.6666 - val_recall: 0.4900\n",
            "Epoch 5/50\n",
            "1527/1527 [==============================] - 9s 6ms/step - loss: 0.5835 - accuracy: 0.7944 - auc: 0.8074 - precision: 0.6882 - recall: 0.5140 - val_loss: 0.5935 - val_accuracy: 0.7389 - val_auc: 0.8204 - val_precision: 0.7044 - val_recall: 0.5346\n",
            "Epoch 6/50\n",
            "1527/1527 [==============================] - 9s 6ms/step - loss: 0.6092 - accuracy: 0.7629 - auc: 0.8288 - precision: 0.7134 - recall: 0.5489 - val_loss: 0.6465 - val_accuracy: 0.7115 - val_auc: 0.8357 - val_precision: 0.7210 - val_recall: 0.5625\n",
            "Epoch 7/50\n",
            "1527/1527 [==============================] - 9s 6ms/step - loss: 0.6013 - accuracy: 0.7649 - auc: 0.8402 - precision: 0.7240 - recall: 0.5714 - val_loss: 0.5406 - val_accuracy: 0.7985 - val_auc: 0.8474 - val_precision: 0.7332 - val_recall: 0.5848\n",
            "Epoch 8/50\n",
            "1527/1527 [==============================] - 9s 6ms/step - loss: 0.4727 - accuracy: 0.8278 - auc: 0.8547 - precision: 0.7417 - recall: 0.5975 - val_loss: 0.4360 - val_accuracy: 0.8550 - val_auc: 0.8621 - val_precision: 0.7510 - val_recall: 0.6106\n",
            "Epoch 9/50\n",
            "1527/1527 [==============================] - 10s 7ms/step - loss: 0.4218 - accuracy: 0.8415 - auc: 0.8689 - precision: 0.7591 - recall: 0.6229 - val_loss: 0.4089 - val_accuracy: 0.8641 - val_auc: 0.8752 - val_precision: 0.7666 - val_recall: 0.6348\n",
            "Epoch 10/50\n",
            "1527/1527 [==============================] - 11s 7ms/step - loss: 0.3871 - accuracy: 0.8690 - auc: 0.8811 - precision: 0.7738 - recall: 0.6461 - val_loss: 0.4250 - val_accuracy: 0.8672 - val_auc: 0.8859 - val_precision: 0.7797 - val_recall: 0.6556\n",
            "Epoch 11/50\n",
            "1527/1527 [==============================] - 9s 6ms/step - loss: 0.3608 - accuracy: 0.8756 - auc: 0.8906 - precision: 0.7859 - recall: 0.6649 - val_loss: 0.4730 - val_accuracy: 0.8107 - val_auc: 0.8946 - val_precision: 0.7907 - val_recall: 0.6730\n",
            "Epoch 12/50\n",
            "1527/1527 [==============================] - 9s 6ms/step - loss: 0.3269 - accuracy: 0.8821 - auc: 0.8984 - precision: 0.7948 - recall: 0.6804 - val_loss: 0.3583 - val_accuracy: 0.8870 - val_auc: 0.9025 - val_precision: 0.7998 - val_recall: 0.6886\n",
            "Epoch 13/50\n",
            "1527/1527 [==============================] - 9s 6ms/step - loss: 0.3921 - accuracy: 0.8494 - auc: 0.9053 - precision: 0.8031 - recall: 0.6950 - val_loss: 0.5068 - val_accuracy: 0.8107 - val_auc: 0.9074 - val_precision: 0.8055 - val_recall: 0.6998\n",
            "Epoch 14/50\n",
            "1527/1527 [==============================] - 9s 6ms/step - loss: 0.3394 - accuracy: 0.8847 - auc: 0.9098 - precision: 0.8085 - recall: 0.7053 - val_loss: 1.1722 - val_accuracy: 0.5924 - val_auc: 0.9100 - val_precision: 0.8081 - val_recall: 0.7078\n",
            "Epoch 15/50\n",
            "1527/1527 [==============================] - 10s 7ms/step - loss: 0.3409 - accuracy: 0.8808 - auc: 0.9098 - precision: 0.8075 - recall: 0.7101 - val_loss: 0.2998 - val_accuracy: 0.9115 - val_auc: 0.9130 - val_precision: 0.8116 - val_recall: 0.7165\n",
            "Epoch 16/50\n",
            "1527/1527 [==============================] - 12s 8ms/step - loss: 0.2909 - accuracy: 0.8998 - auc: 0.9159 - precision: 0.8153 - recall: 0.7225 - val_loss: 0.2982 - val_accuracy: 0.9053 - val_auc: 0.9182 - val_precision: 0.8184 - val_recall: 0.7276\n",
            "Epoch 17/50\n",
            "1527/1527 [==============================] - 12s 8ms/step - loss: 0.2187 - accuracy: 0.9312 - auc: 0.9209 - precision: 0.8220 - recall: 0.7332 - val_loss: 0.2358 - val_accuracy: 0.9237 - val_auc: 0.9238 - val_precision: 0.8259 - val_recall: 0.7390\n",
            "Epoch 18/50\n",
            "1527/1527 [==============================] - 12s 8ms/step - loss: 0.1799 - accuracy: 0.9411 - auc: 0.9265 - precision: 0.8296 - recall: 0.7445 - val_loss: 0.2870 - val_accuracy: 0.9160 - val_auc: 0.9289 - val_precision: 0.8330 - val_recall: 0.7496\n",
            "Epoch 19/50\n",
            "1527/1527 [==============================] - 11s 7ms/step - loss: 0.1879 - accuracy: 0.9280 - auc: 0.9310 - precision: 0.8357 - recall: 0.7541 - val_loss: 0.2116 - val_accuracy: 0.9313 - val_auc: 0.9333 - val_precision: 0.8386 - val_recall: 0.7588\n",
            "Epoch 20/50\n",
            "1527/1527 [==============================] - 11s 7ms/step - loss: 0.1584 - accuracy: 0.9522 - auc: 0.9355 - precision: 0.8419 - recall: 0.7636 - val_loss: 0.5782 - val_accuracy: 0.8137 - val_auc: 0.9368 - val_precision: 0.8436 - val_recall: 0.7669\n",
            "Epoch 21/50\n",
            "1527/1527 [==============================] - 11s 7ms/step - loss: 0.2102 - accuracy: 0.9286 - auc: 0.9380 - precision: 0.8452 - recall: 0.7699 - val_loss: 0.2240 - val_accuracy: 0.9313 - val_auc: 0.9396 - val_precision: 0.8475 - val_recall: 0.7734\n",
            "Epoch 22/50\n",
            "1527/1527 [==============================] - 11s 7ms/step - loss: 0.1319 - accuracy: 0.9542 - auc: 0.9413 - precision: 0.8501 - recall: 0.7771 - val_loss: 0.2240 - val_accuracy: 0.9328 - val_auc: 0.9431 - val_precision: 0.8528 - val_recall: 0.7811\n",
            "Epoch 23/50\n",
            "1527/1527 [==============================] - 11s 7ms/step - loss: 0.1119 - accuracy: 0.9614 - auc: 0.9448 - precision: 0.8552 - recall: 0.7849 - val_loss: 0.3419 - val_accuracy: 0.8962 - val_auc: 0.9462 - val_precision: 0.8574 - val_recall: 0.7882\n",
            "Epoch 24/50\n",
            "1527/1527 [==============================] - 11s 7ms/step - loss: 0.1153 - accuracy: 0.9614 - auc: 0.9475 - precision: 0.8593 - recall: 0.7913 - val_loss: 0.2361 - val_accuracy: 0.9344 - val_auc: 0.9490 - val_precision: 0.8616 - val_recall: 0.7947\n",
            "Epoch 25/50\n",
            "1527/1527 [==============================] - 11s 7ms/step - loss: 0.1953 - accuracy: 0.9208 - auc: 0.9500 - precision: 0.8632 - recall: 0.7973 - val_loss: 0.3025 - val_accuracy: 0.9038 - val_auc: 0.9510 - val_precision: 0.8645 - val_recall: 0.7997\n",
            "Epoch 26/50\n",
            "1527/1527 [==============================] - 10s 6ms/step - loss: 0.0997 - accuracy: 0.9673 - auc: 0.9521 - precision: 0.8662 - recall: 0.8024 - val_loss: 0.1904 - val_accuracy: 0.9420 - val_auc: 0.9534 - val_precision: 0.8684 - val_recall: 0.8055\n",
            "Epoch 27/50\n",
            "1527/1527 [==============================] - 9s 6ms/step - loss: 0.1427 - accuracy: 0.9456 - auc: 0.9545 - precision: 0.8700 - recall: 0.8081 - val_loss: 0.2117 - val_accuracy: 0.9359 - val_auc: 0.9554 - val_precision: 0.8715 - val_recall: 0.8106\n",
            "Epoch 28/50\n",
            "1527/1527 [==============================] - 9s 6ms/step - loss: 0.1232 - accuracy: 0.9509 - auc: 0.9565 - precision: 0.8730 - recall: 0.8130 - val_loss: 0.3480 - val_accuracy: 0.9130 - val_auc: 0.9573 - val_precision: 0.8744 - val_recall: 0.8152\n",
            "Epoch 29/50\n",
            "1527/1527 [==============================] - 8s 5ms/step - loss: 0.0838 - accuracy: 0.9712 - auc: 0.9582 - precision: 0.8759 - recall: 0.8176 - val_loss: 0.2345 - val_accuracy: 0.9374 - val_auc: 0.9591 - val_precision: 0.8775 - val_recall: 0.8200\n",
            "Epoch 30/50\n",
            "1527/1527 [==============================] - 9s 6ms/step - loss: 0.1271 - accuracy: 0.9542 - auc: 0.9599 - precision: 0.8788 - recall: 0.8220 - val_loss: 0.2391 - val_accuracy: 0.9267 - val_auc: 0.9607 - val_precision: 0.8802 - val_recall: 0.8240\n",
            "Epoch 31/50\n",
            "1527/1527 [==============================] - 9s 6ms/step - loss: 0.0881 - accuracy: 0.9686 - auc: 0.9615 - precision: 0.8815 - recall: 0.8261 - val_loss: 0.2571 - val_accuracy: 0.9359 - val_auc: 0.9623 - val_precision: 0.8829 - val_recall: 0.8282\n",
            "Epoch 32/50\n"
          ]
        },
        {
          "name": "stdout",
          "output_type": "stream",
          "text": [
            "1527/1527 [==============================] - 9s 6ms/step - loss: 0.0681 - accuracy: 0.9758 - auc: 0.9631 - precision: 0.8843 - recall: 0.8303 - val_loss: 0.2036 - val_accuracy: 0.9435 - val_auc: 0.9639 - val_precision: 0.8858 - val_recall: 0.8324\n",
            "Epoch 33/50\n",
            "1527/1527 [==============================] - 10s 6ms/step - loss: 0.0583 - accuracy: 0.9777 - auc: 0.9646 - precision: 0.8872 - recall: 0.8344 - val_loss: 0.2130 - val_accuracy: 0.9405 - val_auc: 0.9654 - val_precision: 0.8885 - val_recall: 0.8363\n",
            "Epoch 34/50\n",
            "1527/1527 [==============================] - 9s 6ms/step - loss: 0.0707 - accuracy: 0.9764 - auc: 0.9660 - precision: 0.8898 - recall: 0.8382 - val_loss: 0.2256 - val_accuracy: 0.9435 - val_auc: 0.9667 - val_precision: 0.8911 - val_recall: 0.8400\n",
            "Epoch 35/50\n",
            "1527/1527 [==============================] - 9s 6ms/step - loss: 0.0463 - accuracy: 0.9817 - auc: 0.9674 - precision: 0.8924 - recall: 0.8419 - val_loss: 0.2394 - val_accuracy: 0.9481 - val_auc: 0.9680 - val_precision: 0.8937 - val_recall: 0.8437\n",
            "Epoch 36/50\n",
            "1527/1527 [==============================] - 9s 6ms/step - loss: 0.0534 - accuracy: 0.9823 - auc: 0.9686 - precision: 0.8949 - recall: 0.8455 - val_loss: 0.2782 - val_accuracy: 0.9328 - val_auc: 0.9692 - val_precision: 0.8960 - val_recall: 0.8471\n",
            "Epoch 37/50\n",
            "1527/1527 [==============================] - 8s 6ms/step - loss: 0.0535 - accuracy: 0.9830 - auc: 0.9697 - precision: 0.8971 - recall: 0.8486 - val_loss: 0.1887 - val_accuracy: 0.9450 - val_auc: 0.9703 - val_precision: 0.8982 - val_recall: 0.8503\n",
            "Epoch 38/50\n",
            "1527/1527 [==============================] - 9s 6ms/step - loss: 0.0430 - accuracy: 0.9836 - auc: 0.9709 - precision: 0.8993 - recall: 0.8519 - val_loss: 0.2042 - val_accuracy: 0.9420 - val_auc: 0.9714 - val_precision: 0.9004 - val_recall: 0.8534\n",
            "Epoch 39/50\n",
            "1527/1527 [==============================] - 9s 6ms/step - loss: 0.0977 - accuracy: 0.9614 - auc: 0.9718 - precision: 0.9012 - recall: 0.8547 - val_loss: 0.1877 - val_accuracy: 0.9466 - val_auc: 0.9722 - val_precision: 0.9020 - val_recall: 0.8560\n",
            "Epoch 40/50\n",
            "1527/1527 [==============================] - 8s 6ms/step - loss: 0.0442 - accuracy: 0.9823 - auc: 0.9727 - precision: 0.9029 - recall: 0.8574 - val_loss: 0.2615 - val_accuracy: 0.9405 - val_auc: 0.9732 - val_precision: 0.9039 - val_recall: 0.8588\n",
            "Epoch 41/50\n",
            "1527/1527 [==============================] - 8s 5ms/step - loss: 0.0472 - accuracy: 0.9817 - auc: 0.9736 - precision: 0.9048 - recall: 0.8601 - val_loss: 0.1777 - val_accuracy: 0.9511 - val_auc: 0.9741 - val_precision: 0.9057 - val_recall: 0.8615\n",
            "Epoch 42/50\n",
            "1527/1527 [==============================] - 9s 6ms/step - loss: 0.0290 - accuracy: 0.9948 - auc: 0.9745 - precision: 0.9067 - recall: 0.8629 - val_loss: 0.1917 - val_accuracy: 0.9527 - val_auc: 0.9749 - val_precision: 0.9076 - val_recall: 0.8643\n",
            "Epoch 43/50\n",
            "1527/1527 [==============================] - 9s 6ms/step - loss: 0.0363 - accuracy: 0.9889 - auc: 0.9754 - precision: 0.9086 - recall: 0.8656 - val_loss: 0.2027 - val_accuracy: 0.9527 - val_auc: 0.9758 - val_precision: 0.9095 - val_recall: 0.8669\n",
            "Epoch 44/50\n",
            "1527/1527 [==============================] - 8s 6ms/step - loss: 0.0731 - accuracy: 0.9705 - auc: 0.9761 - precision: 0.9102 - recall: 0.8680 - val_loss: 0.2429 - val_accuracy: 0.9359 - val_auc: 0.9764 - val_precision: 0.9108 - val_recall: 0.8690\n",
            "Epoch 45/50\n",
            "1527/1527 [==============================] - 9s 6ms/step - loss: 0.2038 - accuracy: 0.9358 - auc: 0.9765 - precision: 0.9111 - recall: 0.8696 - val_loss: 0.2574 - val_accuracy: 0.9267 - val_auc: 0.9767 - val_precision: 0.9115 - val_recall: 0.8703\n",
            "Epoch 46/50\n",
            "1527/1527 [==============================] - 9s 6ms/step - loss: 0.0608 - accuracy: 0.9764 - auc: 0.9769 - precision: 0.9121 - recall: 0.8713 - val_loss: 0.3427 - val_accuracy: 0.9252 - val_auc: 0.9772 - val_precision: 0.9127 - val_recall: 0.8723\n",
            "Epoch 47/50\n",
            "1527/1527 [==============================] - 9s 6ms/step - loss: 0.0774 - accuracy: 0.9725 - auc: 0.9774 - precision: 0.9133 - recall: 0.8732 - val_loss: 0.4073 - val_accuracy: 0.8901 - val_auc: 0.9776 - val_precision: 0.9136 - val_recall: 0.8739\n",
            "Epoch 48/50\n",
            "1527/1527 [==============================] - 9s 6ms/step - loss: 0.0800 - accuracy: 0.9692 - auc: 0.9777 - precision: 0.9140 - recall: 0.8746 - val_loss: 0.1687 - val_accuracy: 0.9557 - val_auc: 0.9780 - val_precision: 0.9147 - val_recall: 0.8755\n",
            "Epoch 49/50\n",
            "1527/1527 [==============================] - 9s 6ms/step - loss: 0.0408 - accuracy: 0.9882 - auc: 0.9783 - precision: 0.9153 - recall: 0.8766 - val_loss: 0.2208 - val_accuracy: 0.9450 - val_auc: 0.9786 - val_precision: 0.9160 - val_recall: 0.8775\n",
            "Epoch 50/50\n",
            "1527/1527 [==============================] - 9s 6ms/step - loss: 0.0297 - accuracy: 0.9908 - auc: 0.9789 - precision: 0.9167 - recall: 0.8785 - val_loss: 0.3050 - val_accuracy: 0.9267 - val_auc: 0.9791 - val_precision: 0.9173 - val_recall: 0.8794\n"
          ]
        }
      ],
      "source": [
        "# Compile the model.\n",
        "import tensorflow as tf\n",
        "model.compile(\n",
        "  optimizer='adam',\n",
        "  loss='categorical_crossentropy',\n",
        "  metrics=['accuracy',tf.keras.metrics.AUC(),tf.keras.metrics.Precision(),tf.keras.metrics.Recall()]\n",
        ")\n",
        "\n",
        "# Train the model.\n",
        "history=model.fit(\n",
        "  X_train,\n",
        "  to_categorical(y_train),\n",
        "  epochs=50,\n",
        "  batch_size=32,\n",
        "  validation_data=(X_test, to_categorical(y_test))\n",
        ")"
      ]
    },
    {
      "cell_type": "code",
      "execution_count": null,
      "metadata": {
        "id": "QdVMg_qsHN9R",
        "outputId": "14543e21-9f40-4e20-d443-96ff7af6acc6"
      },
      "outputs": [
        {
          "name": "stdout",
          "output_type": "stream",
          "text": [
            "655/655 [==============================] - 1s 864us/step\n",
            "test loss 0.3050295408217962\n",
            "test acc 0.9267175793647766\n",
            "test auc 0.9791193604469299\n",
            "test precision 0.9173750281333923\n",
            "test recall 0.8797487616539001\n"
          ]
        }
      ],
      "source": [
        "results=model.evaluate(X_test,to_categorical(y_test),batch_size=128)\n",
        "print('test loss', results[0])\n",
        "print('test acc', results[1])\n",
        "print('test auc', results[2])\n",
        "print('test precision', results[3])\n",
        "print('test recall', results[4])"
      ]
    },
    {
      "cell_type": "code",
      "execution_count": null,
      "metadata": {
        "id": "YT4z3spOHN9R",
        "outputId": "ce4551c6-c8ba-429c-e3d8-03d6dd6dc831"
      },
      "outputs": [
        {
          "name": "stdout",
          "output_type": "stream",
          "text": [
            "dict_keys(['val_loss', 'val_accuracy', 'val_auc', 'val_precision', 'val_recall', 'loss', 'accuracy', 'auc', 'precision', 'recall'])\n"
          ]
        },
        {
          "data": {
            "image/png": "[encoded data removed]",
            "text/plain": [
              "<Figure size 432x288 with 1 Axes>"
            ]
          },
          "metadata": {
            "needs_background": "light"
          },
          "output_type": "display_data"
        }
      ],
      "source": [
        "import matplotlib.pyplot as plt\n",
        "# list all data in history\n",
        "print(history.history.keys())\n",
        "# summarize history for accuracy\n",
        "plt.plot(history.history['accuracy'])\n",
        "plt.plot(history.history['val_accuracy'])\n",
        "plt.title('Model Accuracy')\n",
        "plt.ylabel('accuracy')\n",
        "plt.xlabel('epoch')\n",
        "plt.legend(['train', 'test'], loc='upper left')\n",
        "plt.show()"
      ]
    },
    {
      "cell_type": "markdown",
      "metadata": {
        "id": "W4Qcm1h-HN9S"
      },
      "source": [
        "**Test each image inside test_images folder placed inside data folder and find its corresponding class**"
      ]
    },
    {
      "cell_type": "code",
      "execution_count": null,
      "metadata": {
        "id": "GJoLwcq5HN9S"
      },
      "outputs": [],
      "source": [
        "test_folder='test_rps/'\n",
        "results=[]\n",
        "for filename in os.listdir(test_folder):\n",
        "    temp=[]\n",
        "    img=plt.imread(test_folder+filename)\n",
        "    img=np.array(img)\n",
        "    img = cv2.resize(img, (64,64), interpolation = cv2.INTER_AREA)\n",
        "    inp=np.reshape(img,(1,12288))\n",
        "    prediction_result=model.predict(inp)\n",
        "    x=np.argmax(prediction_result)\n",
        "    if(x==0):\n",
        "        pred_class_name='paper'\n",
        "    elif(x==1):\n",
        "        pred_class_name='rock'\n",
        "    else:\n",
        "        pred_class_name='scissors'\n",
        "    temp.append(filename)\n",
        "    temp.append(pred_class_name)\n",
        "    temp.append(prediction_result[0][x]*100)\n",
        "    results.append(temp)"
      ]
    },
    {
      "cell_type": "code",
      "execution_count": null,
      "metadata": {
        "id": "Iq72ZrVpHN9S",
        "outputId": "1cbb46f5-4cd3-474f-96d7-d971873b8431"
      },
      "outputs": [
        {
          "name": "stdout",
          "output_type": "stream",
          "text": [
            "[['paper.png' 'paper' '99.99982118606567']\n",
            " ['paper2.png' 'paper' '99.9925971031189']\n",
            " ['rock.png' 'rock' '99.94458556175232']\n",
            " ['rock2.png' 'rock' '99.99935626983643']\n",
            " ['scissors.png' 'scissors' '99.94001388549805']\n",
            " ['scissors2.png' 'scissors' '99.9987244606018']]\n"
          ]
        }
      ],
      "source": [
        "results=np.array(results)\n",
        "print(results)"
      ]
    },
    {
      "cell_type": "code",
      "execution_count": null,
      "metadata": {
        "id": "81nQfRkkHN9T"
      },
      "outputs": [],
      "source": []
    }
  ],
  "metadata": {
    "kernelspec": {
      "display_name": "Python 3",
      "language": "python",
      "name": "python3"
    },
    "language_info": {
      "codemirror_mode": {
        "name": "ipython",
        "version": 3
      },
      "file_extension": ".py",
      "mimetype": "text/x-python",
      "name": "python",
      "nbconvert_exporter": "python",
      "pygments_lexer": "ipython3",
      "version": "3.7.4"
    },
    "colab": {
      "provenance": []
    }
  },
  "nbformat": 4,
  "nbformat_minor": 0
}